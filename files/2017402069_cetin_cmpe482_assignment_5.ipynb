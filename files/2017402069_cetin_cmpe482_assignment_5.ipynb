{
 "cells": [
  {
   "cell_type": "markdown",
   "id": "fde9e107",
   "metadata": {
    "id": "fde9e107"
   },
   "source": [
    "# CMPE482 - Spring 2021 - Assignment 5\n",
    "**Student ID**: 2017402069 \\\n",
    "**Name**: Nilüfer Çetin \\\n",
    "**Date**: 15.06.2021"
   ]
  },
  {
   "cell_type": "markdown",
   "id": "bfa0dca0",
   "metadata": {
    "id": "bfa0dca0"
   },
   "source": [
    "The following four questions are part of the Assignment 5 of CMPE482 course. It should be noted that these problems might have various solutions and the guidelines provided by the student might not be the most effective or quickest solutions to exist. \n",
    "\n",
    "Firstly, packages that can be used are imported,"
   ]
  },
  {
   "cell_type": "markdown",
   "id": "GKmOcucLpnA1",
   "metadata": {
    "id": "GKmOcucLpnA1"
   },
   "source": [
    "It should also be noted that due to the implementation with **JAX**, the codes are finally run on Google Collab which may result in different arrangement and indentations for another computer. Nonetheless, the outputs are provided and there is no need for running the notebook again."
   ]
  },
  {
   "cell_type": "code",
   "execution_count": 2,
   "id": "b28ed458",
   "metadata": {
    "id": "b28ed458"
   },
   "outputs": [],
   "source": [
    "import numpy as np\n",
    "import scipy as sp\n",
    "import pandas as pd\n",
    "import math\n",
    "import matplotlib.pyplot as plt\n",
    "import jax \n",
    "import jax.numpy as jnp\n",
    "import jax.nn as jnn\n",
    "import sklearn.metrics as skm\n",
    "from google.colab import files"
   ]
  },
  {
   "cell_type": "markdown",
   "id": "bece65cb",
   "metadata": {
    "id": "bece65cb"
   },
   "source": [
    "The ***Iris Dataset*** that will be used for the task is gathered."
   ]
  },
  {
   "cell_type": "code",
   "execution_count": 3,
   "id": "JpVIOSAm1v5H",
   "metadata": {
    "colab": {
     "base_uri": "https://localhost:8080/",
     "height": 73,
     "resources": {
      "http://localhost:8080/nbextensions/google.colab/files.js": {
       "data": "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",
       "headers": [
        [
         "content-type",
         "application/javascript"
        ]
       ],
       "ok": true,
       "status": 200,
       "status_text": ""
      }
     }
    },
    "id": "JpVIOSAm1v5H",
    "outputId": "1f9bc2a0-d7a6-4688-db98-4341536030db"
   },
   "outputs": [
    {
     "data": {
      "text/html": [
       "\n",
       "     <input type=\"file\" id=\"files-d0884bc7-0975-43d3-98a6-fb5a6d20e015\" name=\"files[]\" multiple disabled\n",
       "        style=\"border:none\" />\n",
       "     <output id=\"result-d0884bc7-0975-43d3-98a6-fb5a6d20e015\">\n",
       "      Upload widget is only available when the cell has been executed in the\n",
       "      current browser session. Please rerun this cell to enable.\n",
       "      </output>\n",
       "      <script src=\"/nbextensions/google.colab/files.js\"></script> "
      ],
      "text/plain": [
       "<IPython.core.display.HTML object>"
      ]
     },
     "metadata": {
      "tags": []
     },
     "output_type": "display_data"
    },
    {
     "name": "stdout",
     "output_type": "stream",
     "text": [
      "Saving iris.data to iris.data\n"
     ]
    }
   ],
   "source": [
    "uploaded = files.upload()"
   ]
  },
  {
   "cell_type": "code",
   "execution_count": 4,
   "id": "CAcfybYC1y7Y",
   "metadata": {
    "id": "CAcfybYC1y7Y"
   },
   "outputs": [],
   "source": [
    "import io\n",
    "data = pd.read_csv(io.StringIO(uploaded['iris.data'].decode('utf-8')),header=None)[50:150] #the relevant parts of data is read"
   ]
  },
  {
   "cell_type": "markdown",
   "id": "c0f9b647",
   "metadata": {
    "id": "c0f9b647"
   },
   "source": [
    "# Question 1\n",
    "\n",
    "Download the ***Iris Dataset*** from the UCI Machine Learning Repository. We will be using **only the last 100 lines** of this data set (only 2 classes). The **first 4 columns** of this data set are the features and the **last column** is labels. Convert the label *Iris-versicolor to 0* and *Iris-virginica to 1*. Call the ${100 x 4}$ data matrix ${A}$ and the ${100 x 1}$ label vector ${y}$."
   ]
  },
  {
   "cell_type": "code",
   "execution_count": 5,
   "id": "751774c5",
   "metadata": {
    "colab": {
     "base_uri": "https://localhost:8080/",
     "height": 417
    },
    "id": "751774c5",
    "outputId": "27d81395-f92f-4ee0-ccb0-6d743aa780a1",
    "scrolled": true
   },
   "outputs": [
    {
     "data": {
      "text/html": [
       "<div>\n",
       "<style scoped>\n",
       "    .dataframe tbody tr th:only-of-type {\n",
       "        vertical-align: middle;\n",
       "    }\n",
       "\n",
       "    .dataframe tbody tr th {\n",
       "        vertical-align: top;\n",
       "    }\n",
       "\n",
       "    .dataframe thead th {\n",
       "        text-align: right;\n",
       "    }\n",
       "</style>\n",
       "<table border=\"1\" class=\"dataframe\">\n",
       "  <thead>\n",
       "    <tr style=\"text-align: right;\">\n",
       "      <th></th>\n",
       "      <th>0</th>\n",
       "      <th>1</th>\n",
       "      <th>2</th>\n",
       "      <th>3</th>\n",
       "      <th>4</th>\n",
       "    </tr>\n",
       "  </thead>\n",
       "  <tbody>\n",
       "    <tr>\n",
       "      <th>50</th>\n",
       "      <td>7.0</td>\n",
       "      <td>3.2</td>\n",
       "      <td>4.7</td>\n",
       "      <td>1.4</td>\n",
       "      <td>Iris-versicolor</td>\n",
       "    </tr>\n",
       "    <tr>\n",
       "      <th>51</th>\n",
       "      <td>6.4</td>\n",
       "      <td>3.2</td>\n",
       "      <td>4.5</td>\n",
       "      <td>1.5</td>\n",
       "      <td>Iris-versicolor</td>\n",
       "    </tr>\n",
       "    <tr>\n",
       "      <th>52</th>\n",
       "      <td>6.9</td>\n",
       "      <td>3.1</td>\n",
       "      <td>4.9</td>\n",
       "      <td>1.5</td>\n",
       "      <td>Iris-versicolor</td>\n",
       "    </tr>\n",
       "    <tr>\n",
       "      <th>53</th>\n",
       "      <td>5.5</td>\n",
       "      <td>2.3</td>\n",
       "      <td>4.0</td>\n",
       "      <td>1.3</td>\n",
       "      <td>Iris-versicolor</td>\n",
       "    </tr>\n",
       "    <tr>\n",
       "      <th>54</th>\n",
       "      <td>6.5</td>\n",
       "      <td>2.8</td>\n",
       "      <td>4.6</td>\n",
       "      <td>1.5</td>\n",
       "      <td>Iris-versicolor</td>\n",
       "    </tr>\n",
       "    <tr>\n",
       "      <th>...</th>\n",
       "      <td>...</td>\n",
       "      <td>...</td>\n",
       "      <td>...</td>\n",
       "      <td>...</td>\n",
       "      <td>...</td>\n",
       "    </tr>\n",
       "    <tr>\n",
       "      <th>145</th>\n",
       "      <td>6.7</td>\n",
       "      <td>3.0</td>\n",
       "      <td>5.2</td>\n",
       "      <td>2.3</td>\n",
       "      <td>Iris-virginica</td>\n",
       "    </tr>\n",
       "    <tr>\n",
       "      <th>146</th>\n",
       "      <td>6.3</td>\n",
       "      <td>2.5</td>\n",
       "      <td>5.0</td>\n",
       "      <td>1.9</td>\n",
       "      <td>Iris-virginica</td>\n",
       "    </tr>\n",
       "    <tr>\n",
       "      <th>147</th>\n",
       "      <td>6.5</td>\n",
       "      <td>3.0</td>\n",
       "      <td>5.2</td>\n",
       "      <td>2.0</td>\n",
       "      <td>Iris-virginica</td>\n",
       "    </tr>\n",
       "    <tr>\n",
       "      <th>148</th>\n",
       "      <td>6.2</td>\n",
       "      <td>3.4</td>\n",
       "      <td>5.4</td>\n",
       "      <td>2.3</td>\n",
       "      <td>Iris-virginica</td>\n",
       "    </tr>\n",
       "    <tr>\n",
       "      <th>149</th>\n",
       "      <td>5.9</td>\n",
       "      <td>3.0</td>\n",
       "      <td>5.1</td>\n",
       "      <td>1.8</td>\n",
       "      <td>Iris-virginica</td>\n",
       "    </tr>\n",
       "  </tbody>\n",
       "</table>\n",
       "<p>100 rows × 5 columns</p>\n",
       "</div>"
      ],
      "text/plain": [
       "       0    1    2    3                4\n",
       "50   7.0  3.2  4.7  1.4  Iris-versicolor\n",
       "51   6.4  3.2  4.5  1.5  Iris-versicolor\n",
       "52   6.9  3.1  4.9  1.5  Iris-versicolor\n",
       "53   5.5  2.3  4.0  1.3  Iris-versicolor\n",
       "54   6.5  2.8  4.6  1.5  Iris-versicolor\n",
       "..   ...  ...  ...  ...              ...\n",
       "145  6.7  3.0  5.2  2.3   Iris-virginica\n",
       "146  6.3  2.5  5.0  1.9   Iris-virginica\n",
       "147  6.5  3.0  5.2  2.0   Iris-virginica\n",
       "148  6.2  3.4  5.4  2.3   Iris-virginica\n",
       "149  5.9  3.0  5.1  1.8   Iris-virginica\n",
       "\n",
       "[100 rows x 5 columns]"
      ]
     },
     "execution_count": 5,
     "metadata": {
      "tags": []
     },
     "output_type": "execute_result"
    }
   ],
   "source": [
    "data"
   ]
  },
  {
   "cell_type": "code",
   "execution_count": 6,
   "id": "3b1ce2ed",
   "metadata": {
    "colab": {
     "base_uri": "https://localhost:8080/",
     "height": 417
    },
    "id": "3b1ce2ed",
    "outputId": "59a0a3f1-9c9f-4e70-bb92-dcd388314242",
    "scrolled": true
   },
   "outputs": [
    {
     "data": {
      "text/html": [
       "<div>\n",
       "<style scoped>\n",
       "    .dataframe tbody tr th:only-of-type {\n",
       "        vertical-align: middle;\n",
       "    }\n",
       "\n",
       "    .dataframe tbody tr th {\n",
       "        vertical-align: top;\n",
       "    }\n",
       "\n",
       "    .dataframe thead th {\n",
       "        text-align: right;\n",
       "    }\n",
       "</style>\n",
       "<table border=\"1\" class=\"dataframe\">\n",
       "  <thead>\n",
       "    <tr style=\"text-align: right;\">\n",
       "      <th></th>\n",
       "      <th>0</th>\n",
       "      <th>1</th>\n",
       "      <th>2</th>\n",
       "      <th>3</th>\n",
       "    </tr>\n",
       "  </thead>\n",
       "  <tbody>\n",
       "    <tr>\n",
       "      <th>50</th>\n",
       "      <td>7.0</td>\n",
       "      <td>3.2</td>\n",
       "      <td>4.7</td>\n",
       "      <td>1.4</td>\n",
       "    </tr>\n",
       "    <tr>\n",
       "      <th>51</th>\n",
       "      <td>6.4</td>\n",
       "      <td>3.2</td>\n",
       "      <td>4.5</td>\n",
       "      <td>1.5</td>\n",
       "    </tr>\n",
       "    <tr>\n",
       "      <th>52</th>\n",
       "      <td>6.9</td>\n",
       "      <td>3.1</td>\n",
       "      <td>4.9</td>\n",
       "      <td>1.5</td>\n",
       "    </tr>\n",
       "    <tr>\n",
       "      <th>53</th>\n",
       "      <td>5.5</td>\n",
       "      <td>2.3</td>\n",
       "      <td>4.0</td>\n",
       "      <td>1.3</td>\n",
       "    </tr>\n",
       "    <tr>\n",
       "      <th>54</th>\n",
       "      <td>6.5</td>\n",
       "      <td>2.8</td>\n",
       "      <td>4.6</td>\n",
       "      <td>1.5</td>\n",
       "    </tr>\n",
       "    <tr>\n",
       "      <th>...</th>\n",
       "      <td>...</td>\n",
       "      <td>...</td>\n",
       "      <td>...</td>\n",
       "      <td>...</td>\n",
       "    </tr>\n",
       "    <tr>\n",
       "      <th>145</th>\n",
       "      <td>6.7</td>\n",
       "      <td>3.0</td>\n",
       "      <td>5.2</td>\n",
       "      <td>2.3</td>\n",
       "    </tr>\n",
       "    <tr>\n",
       "      <th>146</th>\n",
       "      <td>6.3</td>\n",
       "      <td>2.5</td>\n",
       "      <td>5.0</td>\n",
       "      <td>1.9</td>\n",
       "    </tr>\n",
       "    <tr>\n",
       "      <th>147</th>\n",
       "      <td>6.5</td>\n",
       "      <td>3.0</td>\n",
       "      <td>5.2</td>\n",
       "      <td>2.0</td>\n",
       "    </tr>\n",
       "    <tr>\n",
       "      <th>148</th>\n",
       "      <td>6.2</td>\n",
       "      <td>3.4</td>\n",
       "      <td>5.4</td>\n",
       "      <td>2.3</td>\n",
       "    </tr>\n",
       "    <tr>\n",
       "      <th>149</th>\n",
       "      <td>5.9</td>\n",
       "      <td>3.0</td>\n",
       "      <td>5.1</td>\n",
       "      <td>1.8</td>\n",
       "    </tr>\n",
       "  </tbody>\n",
       "</table>\n",
       "<p>100 rows × 4 columns</p>\n",
       "</div>"
      ],
      "text/plain": [
       "       0    1    2    3\n",
       "50   7.0  3.2  4.7  1.4\n",
       "51   6.4  3.2  4.5  1.5\n",
       "52   6.9  3.1  4.9  1.5\n",
       "53   5.5  2.3  4.0  1.3\n",
       "54   6.5  2.8  4.6  1.5\n",
       "..   ...  ...  ...  ...\n",
       "145  6.7  3.0  5.2  2.3\n",
       "146  6.3  2.5  5.0  1.9\n",
       "147  6.5  3.0  5.2  2.0\n",
       "148  6.2  3.4  5.4  2.3\n",
       "149  5.9  3.0  5.1  1.8\n",
       "\n",
       "[100 rows x 4 columns]"
      ]
     },
     "execution_count": 6,
     "metadata": {
      "tags": []
     },
     "output_type": "execute_result"
    }
   ],
   "source": [
    "A = data.iloc[:,0:4] #the matrices constructed\n",
    "y = data[4].map({'Iris-virginica' : 1, 'Iris-versicolor' : 0}) #mapping\n",
    "A"
   ]
  },
  {
   "cell_type": "code",
   "execution_count": 7,
   "id": "61770a36",
   "metadata": {
    "colab": {
     "base_uri": "https://localhost:8080/"
    },
    "id": "61770a36",
    "outputId": "2a4e8eda-9672-4c5e-d9ec-41579a475f7a"
   },
   "outputs": [
    {
     "data": {
      "text/plain": [
       "50     0\n",
       "51     0\n",
       "52     0\n",
       "53     0\n",
       "54     0\n",
       "      ..\n",
       "145    1\n",
       "146    1\n",
       "147    1\n",
       "148    1\n",
       "149    1\n",
       "Name: 4, Length: 100, dtype: int64"
      ]
     },
     "execution_count": 7,
     "metadata": {
      "tags": []
     },
     "output_type": "execute_result"
    }
   ],
   "source": [
    "y #output matrix"
   ]
  },
  {
   "cell_type": "markdown",
   "id": "0cf5779c",
   "metadata": {
    "id": "0cf5779c"
   },
   "source": [
    "## Q1-Part a\n",
    "Conduct an **SVD** of the data matrix ${A = U\\Sigma V^T}$ using numpy.linalg.svd function. Compute ${C = U\\Sigma}$. Take the **first two columns** of ${C}$. We will call this ${100 x 2}$ matrix ${X}$. The rows of this matrix will represent the coordinates of our observations in this new space. Produce a scatter plot of ${X}$, and color each point according to its label (Use first column of ${X}$ for the horizontal dimension)."
   ]
  },
  {
   "cell_type": "code",
   "execution_count": 8,
   "id": "008a7c42",
   "metadata": {
    "id": "008a7c42"
   },
   "outputs": [],
   "source": [
    "U, Sig, VT = np.linalg.svd(A) #singular value decomposition\n",
    "C = U@np.vstack((np.diag(Sig), np.zeros((96,4)))) #sigma matrix created\n",
    "X = C[:,0:2] #first two columns of X taken"
   ]
  },
  {
   "cell_type": "code",
   "execution_count": 9,
   "id": "46435781",
   "metadata": {
    "colab": {
     "base_uri": "https://localhost:8080/",
     "height": 571
    },
    "id": "46435781",
    "outputId": "25a21bca-06b2-4b7b-80da-b9381afbd61d"
   },
   "outputs": [
    {
     "data": {
      "text/plain": [
       "<matplotlib.collections.PathCollection at 0x7f22f5e23490>"
      ]
     },
     "execution_count": 9,
     "metadata": {
      "tags": []
     },
     "output_type": "execute_result"
    },
    {
     "data": {
      "image/png": "[encoded data removed]",
      "text/plain": [
       "<Figure size 576x576 with 1 Axes>"
      ]
     },
     "metadata": {
      "needs_background": "light",
      "tags": []
     },
     "output_type": "display_data"
    }
   ],
   "source": [
    "fig, ax = plt.subplots(figsize=(8,8))\n",
    "fig.suptitle(\"Scatter Plots of Points Transformed\", size=20)\n",
    "ax.set_xlim(-11.5,-5)\n",
    "ax.set_ylim(-1.5,1.5)\n",
    "ax.set(ylabel='2nd Column', xlabel='1st Column')\n",
    "plt.scatter(X[:,0],X[:,1], marker='o', c=y, s=150)"
   ]
  },
  {
   "cell_type": "markdown",
   "id": "878316e0",
   "metadata": {
    "id": "878316e0"
   },
   "source": [
    "## Q1-Part b\n",
    "When we use only the two dimensions mentioned above, which ***subspace*** of the *original ${4}$-dimensional space* are we restricting/projecting our data to? You can respond to this question by giving ***basis vectors*** for this subspace.\n",
    "\n",
    "Originally with this dataset, the idea is to obtain a model that is able to correctly classify the species of flowers coming from **three** different species using **four different features**. As a result of the formulation of the problem in this assignment, the data is only limited to **two** classes and hence it is a ***binary classification problem***. \n",
    "\n",
    "Under these assumptions, the idea is to correctly match the flower species via differentiating the flowers in dataset in **four dimensions**, four different characteristics and measures of the flowers in real life actually. The point of using a statistical learning model is to find the most important features and their influence in clustering the flowers by their correct classes. However, **Singular Value Decomposition** decomposes the matrix into its ***left and right singular vectors*** and ***associated singular values***. In this process, the values and vectors are not only matched with one another but also are ordered on the basis of how good they are able to approximate the original matrix. It can be stated that the singular vectors that hold most of the characteristic data resembling the structure of the original matrix are given more weight, in other words the *singular values* are also sequenced.\n",
    "\n",
    "Delving deeper into the classification problem, under the assumption that the collected features at hand are good indicator of flower species, there is an expected amount of similarity between the original data matrix ${A}$ and the output matrix ${y}$. Because, if the features are good indicators of the species then there should be some degree of observed similarity and hence clustering between the flowers that belong to the **same species**. In other words, the difference in observed features are the source of the special characteristic of the matrix. If all the data collected were to include one and only species, then the matrix would contain less amount of variability between its rows, implying some repeated pattern that will make the matrix dull in a way. In short, the matrix ${A}$ has a secret structure that is in some kind of accordance with the stucture of the label matrix ${y}$.\n",
    "\n",
    "Putting the information coming from the last two paragraphs together, if the matrix ${A}$ and ${y}$ resemble some kind of *similar* information on the space, then once decomposed the ***singular values and vectors*** should be ordered in a way that the original characteristics of the matrix ${A}$ are contained mostly in the *first* values and vectors. To put it differently, **SVD** helps finding the most important characteristics by **decomposing** and **re-arranging** the data matrix. The selected **two dimensions** from the original four are actually the most important features/dimensions in giving information of how the species are seperated. That is why when visualized on this ${2}$-D subspace, the clusters of the two different classes are obvious and the observed flowers are well seperated on the basis of this two features in ${x}$ and ${y}$ axes."
   ]
  },
  {
   "cell_type": "markdown",
   "id": "1j-WBi1BUNF1",
   "metadata": {
    "id": "1j-WBi1BUNF1"
   },
   "source": [
    "# Question 2\n",
    "\n",
    "Let us now train a supervised model using our processed dataset ${X}$. We will use a *logistic regression model* for this task. For labels ${y \\in \\{0,1\\}}$ and features ${x \\in R^d}$, **logistic regression** can be defined as follows:\n",
    "\n",
    "${y \\approx \\hat{y} = \\sigma (\\beta + \\theta^Tx)}$\n",
    "\n",
    "Here ${\\beta \\in R}$ and ${\\theta \\in R^d}$  are **model parameters** and ${\\sigma}$ is the **sigmoid function**, ${\\sigma(\\alpha) = 1/(1 + e^{-\\alpha})}$. In our application, we will ignore ${\\beta}$ (usually called the **intercept parameter**) for simplicity, but note that this is not a common practice.\n",
    "Previously, we used error metrics like ***mean square error (MSE)*** to evaluate *how wrong* a model is on a data set given its parameters. The error metrics used for training a model is called the ***loss function*** in machine learning. MSE is not a very good loss function in this case as we now try to predict *binary labels*. Therefore, we define a new loss function called the ***logistic loss***,\n",
    "\n",
    "${L(\\theta) = \\frac{1}{N} \\sum_{i = 1}^{N} {- y_i log(\\hat{y_i}) - (1 - y_i) log(1 - \\hat{y_i})}}$\n",
    "\n",
    "Unfortunately, logistic regression with log loss does not have an analytical solution, thus we will use the ****gradient descent algorithm*** to find a solution. Gradient descent is an iterative algorithm and in its description, we will use ${\\theta^{(k)}}$ to denote the parameters in the ${k^{th}}$ iteration of the algorithm. In gradient descent, for a randomly initialized ${\\theta^{(0)}}$,\n",
    "\n",
    "${\\theta^{(k+1)} = \\theta^{(k)} - \\eta \\sum_{i = 1}^{N} {\\bigtriangledown_{\\theta^{(k)}}}L(\\theta^{(k)})}$\n",
    "\n",
    "where ${\\eta \\in R > 0}$ is called the **learning rate** or **step size**. When run for a large enough number of iterations (call ${K}$), the model is expected to converge to a local optimum (given certain conditions beyond the scope of this course)."
   ]
  },
  {
   "cell_type": "markdown",
   "id": "pKtJ2vZ-bMEI",
   "metadata": {
    "id": "pKtJ2vZ-bMEI"
   },
   "source": [
    "## Q2-Part a\n",
    "**Derive** ${{\\bigtriangledown_{\\theta_i^{(k)}}}L(\\theta^{(k)})}$ for our model. \n",
    "\n",
    "Note that here we are deriving ${{\\bigtriangledown_{\\theta_i^{(k)}}}}$ for a single parameter, the whole gradient would include the results of the operation conducted for all parameters.\n",
    "\n",
    "${{\\bigtriangledown_{\\theta_i^{(k)}}}L(\\theta^{(k)})}$ can be written multiplication of **two** partial derivatives by *chain rule*. Moreover, as ${L(\\theta)}$ is a sum and the derivative acts linear on the summation so the final form of the **gradient** will contain summation over the indices of ${x}$. Thus, in the most closed form the **gradient** can be written as,\n",
    "\n",
    "${{\\bigtriangledown_{\\theta^{(k)}}}L(\\theta^{(k)}) = \\sum_{i = 1}^{N} \\frac{\\partial L}{\\partial \\hat y_i} \\frac{\\partial \\hat y_i}{\\partial \\theta}}$\n",
    "\n",
    "Nonetheless, it is rather hard and can be a little ambiguous to obtain the formula for the whole vector ${\\theta^{(k)}}$, and it is needed to find ${{\\bigtriangledown_{\\theta_j^{(k)}}}L(\\theta^{(k)})}$. For this, the *similar* expression can be written but it should be kept in mind that ${j}$ is a fixed index of ${\\theta^{(k)}}$ and the ${i}$ in summation is different and takes values from ${1}$ to ${N}$ for all ${x}$,\n",
    "\n",
    "${{\\bigtriangledown_{\\theta_j^{(k)}}}L(\\theta^{(k)}) = \\sum_{i = 1}^{N} \\frac{\\partial L}{\\partial \\hat y_i} \\frac{\\partial \\hat y_i}{\\partial \\theta_j}}$\n",
    "\n",
    "The partial derivatives in this formula can be opened by keeping in mind that ${\\frac{dlog(x)}{dx} = 1/x}$ and the derivative of ${\\sigma (x)}$ is ${(\\sigma (x)) (1-\\sigma (x))}$. Once this is done,\n",
    "\n",
    "${\\frac{\\partial L}{\\partial \\hat y_i} = \\frac{1}{N} (-\\frac{y_i}{\\hat y_i} + \\frac{1-y_i}{1-\\hat y_i})}$ and\n",
    "\n",
    "${\\frac{\\partial \\hat y_i}{\\partial \\theta_j} = (\\sigma (\\theta^Tx)) (1-\\sigma (\\theta^Tx))(x_{i,j})}$, where ${x_{i,j}}$ is the value at the ${j^{th}}$ index of ${x_i}$ that is multiplied to ${\\theta_j}$\n",
    "\n",
    "If these are put into the summation formula,\n",
    "\n",
    "${{\\bigtriangledown_{\\theta_j^{(k)}}}L(\\theta^{(k)}) = \\frac{1}{N}\\sum_{i = 1}^{N} ((-\\frac{y_i}{\\hat y_i} + \\frac{1-y_i}{1-\\hat y_i})(\\sigma (\\theta^Tx)) (1-\\sigma (\\theta^Tx))(x_{i,1}))}$ can be obtained for ${j^{th}}$ element of ${\\theta}$. Note that ${j^{th}}$ element is derived instead of ${i^{th}}$ to not further comlplicate the computations between two different ${i}$s coming from ${{\\bigtriangledown_{\\theta_i^{(k)}}}L(\\theta^{(k)})}$ and ${x_i}$ and also ${\\theta}$ are ${\\theta^{(k)}}$.\n",
    "\n"
   ]
  },
  {
   "cell_type": "markdown",
   "id": "TcPCEEvDcVCQ",
   "metadata": {
    "id": "TcPCEEvDcVCQ"
   },
   "source": [
    "## Q2-Part b\n",
    "Initialize ${\\theta^{(0)}}$ using Code Snippet 1. **Train** your algorithm for ${K = 10000}$ and ${\\eta = 0.05}$ using JAX. In our example each row of ${X}$ corresponds to an ${x_i, i \\in \\{1, ..., 100\\}}$. **Print** ${\\theta^{(10000)}}$ and ${L(\\theta^{(10000)})}$."
   ]
  },
  {
   "cell_type": "markdown",
   "id": "ug1tBLvKn9Br",
   "metadata": {
    "id": "ug1tBLvKn9Br"
   },
   "source": [
    "For *repeatability*, the seed is set and the ${\\theta^{(0)}}$ is created as,"
   ]
  },
  {
   "cell_type": "code",
   "execution_count": 10,
   "id": "2ad01dca",
   "metadata": {
    "id": "2ad01dca"
   },
   "outputs": [],
   "source": [
    "import numpy as np\n",
    "np.random.seed(0)\n",
    "theta_init = np.random.randn(2,1)/10"
   ]
  },
  {
   "cell_type": "markdown",
   "id": "l1JPdEiOoLaq",
   "metadata": {
    "id": "l1JPdEiOoLaq"
   },
   "source": [
    "The **logistic regression model** and the **logartihmic loss function** is constructed using **JAX**,"
   ]
  },
  {
   "cell_type": "code",
   "execution_count": 11,
   "id": "PgMzDLWG2jb5",
   "metadata": {
    "id": "PgMzDLWG2jb5"
   },
   "outputs": [],
   "source": [
    "def model(theta, x):\n",
    "  return jnn.sigmoid(x@theta) #model is defined by sigmoid\n",
    "\n",
    "def logloss(theta, y, x):\n",
    "  return jnp.mean(-y*jnp.log(model(theta, x)) - (1-y)*(jnp.log(1-model(theta, x)))) #logistic loss function created\n",
    "\n",
    "dlogloss = jax.value_and_grad(logloss) #gradient of loss function"
   ]
  },
  {
   "cell_type": "markdown",
   "id": "4BiMAEaSoXR4",
   "metadata": {
    "id": "4BiMAEaSoXR4"
   },
   "source": [
    "A **gradient descent function** suitable for the *logistic regression model* that takes ${K}$ and ${\\eta}$ as input can be written as,"
   ]
  },
  {
   "cell_type": "code",
   "execution_count": 12,
   "id": "piLqgaU_3mWR",
   "metadata": {
    "id": "piLqgaU_3mWR"
   },
   "outputs": [],
   "source": [
    "def gradDesc(theta, y, x, steps, step_size):\n",
    "  for i in range(steps):\n",
    "    theta = theta - step_size*dlogloss(theta, y, x)[1] #theta vector is updated with gradient\n",
    "  return theta"
   ]
  },
  {
   "cell_type": "markdown",
   "id": "pUysdIZutBp-",
   "metadata": {
    "id": "pUysdIZutBp-"
   },
   "source": [
    "When applied,"
   ]
  },
  {
   "cell_type": "code",
   "execution_count": 13,
   "id": "_N4g17jh3ymw",
   "metadata": {
    "colab": {
     "base_uri": "https://localhost:8080/"
    },
    "id": "_N4g17jh3ymw",
    "outputId": "3e0e7e98-b2e3-4c17-9c64-f6a65cb3cc5c"
   },
   "outputs": [
    {
     "name": "stderr",
     "output_type": "stream",
     "text": [
      "WARNING:absl:No GPU/TPU found, falling back to CPU. (Set TF_CPP_MIN_LOG_LEVEL=0 and rerun for more info.)\n"
     ]
    }
   ],
   "source": [
    "theta_finit = gradDesc(theta_init, np.expand_dims(y.to_numpy(),1), X, 10000, 0.05) #with the inital values and parameters gradient descent is run"
   ]
  },
  {
   "cell_type": "markdown",
   "id": "D0TIxo3qtEae",
   "metadata": {
    "id": "D0TIxo3qtEae"
   },
   "source": [
    "${\\theta^{(10000)}}$ equals ${\\begin{bmatrix} -0.041 \\\\ 10.125 \\end{bmatrix}}$."
   ]
  },
  {
   "cell_type": "code",
   "execution_count": 14,
   "id": "Gpvt4uOm4QM2",
   "metadata": {
    "colab": {
     "base_uri": "https://localhost:8080/"
    },
    "id": "Gpvt4uOm4QM2",
    "outputId": "f601b458-75cb-4cfd-f164-67545031070e"
   },
   "outputs": [
    {
     "data": {
      "text/plain": [
       "DeviceArray([[-0.04136017],\n",
       "             [10.125258  ]], dtype=float32)"
      ]
     },
     "execution_count": 14,
     "metadata": {
      "tags": []
     },
     "output_type": "execute_result"
    }
   ],
   "source": [
    "theta_finit"
   ]
  },
  {
   "cell_type": "markdown",
   "id": "NZIisvBGtMtm",
   "metadata": {
    "id": "NZIisvBGtMtm"
   },
   "source": [
    "And ${L(\\theta^{(10000)})}$ is found as ${0.13}$."
   ]
  },
  {
   "cell_type": "code",
   "execution_count": 15,
   "id": "uqaKMsGO4VGS",
   "metadata": {
    "colab": {
     "base_uri": "https://localhost:8080/"
    },
    "id": "uqaKMsGO4VGS",
    "outputId": "32714cb6-e4fe-4e12-ba64-96a6e8b0ed28"
   },
   "outputs": [
    {
     "data": {
      "text/plain": [
       "(DeviceArray(0.13006037, dtype=float32), DeviceArray([[ 8.2552433e-06],\n",
       "              [-5.5019567e-03]], dtype=float32))"
      ]
     },
     "execution_count": 15,
     "metadata": {
      "tags": []
     },
     "output_type": "execute_result"
    }
   ],
   "source": [
    "dlogloss(theta_finit, np.expand_dims(y.to_numpy(),1), X) #final loss of theta and gradient"
   ]
  },
  {
   "cell_type": "markdown",
   "id": "zFet9aXPgkqi",
   "metadata": {
    "id": "zFet9aXPgkqi"
   },
   "source": [
    "## Q2-Part c\n",
    "Estimate the labels for each observation using ${\\hat y}$’s produced by your algorithm: Use ${0.5}$ as our ***decision threshold***, that is, predicting ${y}$ to be ${0}$ if ${\\hat y < 0.5}$, and ${1}$ otherwise. Using your estimated labels, **compute and print an accuracy score** of your algorithm on the training data."
   ]
  },
  {
   "cell_type": "markdown",
   "id": "XY2X-1oUtTeA",
   "metadata": {
    "id": "XY2X-1oUtTeA"
   },
   "source": [
    "A simple **accuracy function** can be illustrated,"
   ]
  },
  {
   "cell_type": "code",
   "execution_count": 17,
   "id": "2b85b6b6",
   "metadata": {
    "id": "2b85b6b6"
   },
   "outputs": [],
   "source": [
    "def accuracy(actual, pred):\n",
    "  ncorrect = 0\n",
    "  for i in range(len(actual)):\n",
    "    if(actual[i,0]==np.around(pred[i,0], decimals=0)): #if actual equals prediction increase correct guesses\n",
    "      ncorrect = ncorrect + 1\n",
    "  return ncorrect/len(actual) #divide to get mean"
   ]
  },
  {
   "cell_type": "markdown",
   "id": "d5a0d222",
   "metadata": {
    "id": "d5a0d222"
   },
   "source": [
    "The **accuracy score** can be calculated and found as ${0.96}$. ${96}$ of the observations have been correctly classified."
   ]
  },
  {
   "cell_type": "code",
   "execution_count": 18,
   "id": "qSPufVv_9KU2",
   "metadata": {
    "colab": {
     "base_uri": "https://localhost:8080/"
    },
    "id": "qSPufVv_9KU2",
    "outputId": "3d9be222-63be-410c-a6a4-a0858cbb4c8e"
   },
   "outputs": [
    {
     "data": {
      "text/plain": [
       "0.96"
      ]
     },
     "execution_count": 18,
     "metadata": {
      "tags": []
     },
     "output_type": "execute_result"
    }
   ],
   "source": [
    "accuracy(np.expand_dims(y.to_numpy(),1), jnn.sigmoid(X@theta_finit)) #model and actual values are given"
   ]
  },
  {
   "cell_type": "markdown",
   "id": "6bf1def6",
   "metadata": {
    "id": "6bf1def6"
   },
   "source": [
    "## Q2-Part d\n",
    "Now we will visualize the **decision boundary** between two classes given our trained algorithm. Note that our trained algorithm produces a ${\\hat y \\in [0, 1]}$ for each input provided to it. Since we now have a trained algorithm and a decision threshold of ${0.5}$, we can look at ${\\hat y}$ everywhere in the input space and visualize where it becomes ${0.5}$, effectively\n",
    "demonstrating where our algorithm ***draws the line*** between the two classes."
   ]
  },
  {
   "cell_type": "code",
   "execution_count": 19,
   "id": "cJzsAPmZSqIP",
   "metadata": {
    "colab": {
     "base_uri": "https://localhost:8080/",
     "height": 571
    },
    "id": "cJzsAPmZSqIP",
    "outputId": "e0099e4f-3e78-4fc5-905e-2a11db2f0755"
   },
   "outputs": [
    {
     "data": {
      "text/plain": [
       "<matplotlib.contour.QuadContourSet at 0x7f22e28bbc50>"
      ]
     },
     "execution_count": 19,
     "metadata": {
      "tags": []
     },
     "output_type": "execute_result"
    },
    {
     "data": {
      "image/png": "[encoded data removed]",
      "text/plain": [
       "<Figure size 576x576 with 1 Axes>"
      ]
     },
     "metadata": {
      "needs_background": "light",
      "tags": []
     },
     "output_type": "display_data"
    }
   ],
   "source": [
    "no_pts = 100\n",
    "x_1 = np.linspace(-11.5, -5, no_pts)\n",
    "x_2 = np.linspace(-1.5, 1.5, no_pts)\n",
    "x_1_grid, x_2_grid = np.meshgrid(x_1, x_2)\n",
    "p_grid = np.zeros((no_pts, no_pts))\n",
    "for i in range(no_pts):\n",
    "  for j in range(no_pts):\n",
    "    x_1 = x_1_grid[i, j]\n",
    "    x_2 = x_2_grid[i, j]\n",
    "    p_grid[i, j] = np.around(jnn.sigmoid(np.array([x_1, x_2])@theta_finit), decimals=0)\n",
    "fig, ax = plt.subplots(figsize=(8,8))\n",
    "fig.suptitle(\"Scatter Plots of Points Transformed with Gradient Descent Applied Decision Boundary\", size=20)\n",
    "ax.set_xlim(-11.5,-5)\n",
    "ax.set_ylim(-1.5,1.5)\n",
    "ax.set(ylabel='2nd Column', xlabel='1st Column')\n",
    "plt.scatter(X[:,0],X[:,1], marker='o', c=y, s=150)\n",
    "ax.contour(x_1_grid, x_2_grid, p_grid, levels=[.5])"
   ]
  },
  {
   "cell_type": "markdown",
   "id": "e922f663",
   "metadata": {
    "id": "e922f663"
   },
   "source": [
    "# Question 3\n",
    "\n",
    "We will now use a different algorithm to solve this problem, a **multilayer perceptron** (MLP, a.k.a. artificial neural network).This time the algorithm is defined as\n",
    "\n",
    "${y \\approx \\hat{y} = \\sigma (w_2^T \\sigma (w_1x))}$,\n",
    "\n",
    "where ${x \\in R^d}$, ${W_1 \\in R^{p x d}}$, ${w_2 \\in R^p}$ and ${\\sigma}$ is applied elementwise when applied to a vector. Expressed as such, our MLP has *one* ***hidden layer*** and *${p}$* ***hidden units***. We use gradient\n",
    "descent with **log loss** to train the algorithm; think ${\\theta = (W_1, w_2)}$ to see the correspondence with above.\n"
   ]
  },
  {
   "cell_type": "markdown",
   "id": "a6b04094",
   "metadata": {
    "id": "a6b04094"
   },
   "source": [
    "## Q3-Part a\n",
    "**Derive** the gradient for a single element of ${W_1}$ and ${w_2}$ which will be generically called ${W_{1,i,j}}$ and ${w_{2,i}}$. In other words **derive** ${\\bigtriangledown W_{1,i,j}^{(k)}}$ and ${\\bigtriangledown w_{2,i}^{(k)}}$.\n",
    "\n",
    "The structure here is a little different to the structure in **2a** above but both ${\\theta}$ and ${w_2}$ are vectors so the **gradients** coming from this two expressions will be alike and make use of *similar* derivations in application. So again with the summation sign and the chain rule from the relationship in the definition of ${w_2}$ with ${\\hat y}$ and the loss function,\n",
    "\n",
    "${{\\bigtriangledown_{w_2^{(k)}}}L(W_1^{(k)}, w_2^{(k)}) = \\sum_{i = 1}^{N} \\frac{\\partial L}{\\partial \\hat y_i} \\frac{\\partial \\hat y_i}{\\partial w_2}}$, where \n",
    "\n",
    "${\\frac{\\partial L}{\\partial \\hat y_i} = \\frac{1}{N} (-\\frac{y_i}{\\hat y_i} + \\frac{1-y_i}{1-\\hat y_i})}$ just as above because of the **same** loss function used. And,\n",
    "\n",
    "${\\frac{\\partial \\hat y_i}{\\partial w_2} = (\\sigma (W_1x_i)) (1-\\sigma (W_1x_i))(x_{i,1})\\frac{\\partial \\hat W_1X_i}{\\partial w_2}}$\n",
    "\n",
    "When this is opened for a particular element ${j}$ of ${w_2}$,\n",
    "\n",
    "${\\bigtriangledown w_{2,j}^{(k)} = \\frac{1}{N}\\sum_{i = 1}^{N} ((-\\frac{y_i}{\\hat y_i} + \\frac{1-y_i}{1-\\hat y_i})(\\sigma (W_1x_i)) (1-\\sigma (W_1x_i))(W_1x_i)_j)}$\n"
   ]
  },
  {
   "cell_type": "markdown",
   "id": "047f1011",
   "metadata": {
    "id": "047f1011"
   },
   "source": [
    "## Q3-Part b\n",
    "*Let* ${p=5}$. *Initialize* all parameters, i.e. ${W_1^{(0)}}$ and ${w_2^{(0)}}$ using Code Snippet 3. *Train* your\n",
    "algorithm for ${K=10000}$ and ${\\eta=0.05}$ using JAX. **Print** ${W_1^{(10000)}}$, ${w_2^{(10000)}}$ and ${L(W_1^{(10000)}, w_2^{(10000)})}$."
   ]
  },
  {
   "cell_type": "markdown",
   "id": "swuv13mawlT1",
   "metadata": {
    "id": "swuv13mawlT1"
   },
   "source": [
    "For *repeatability*, the seed is set and ${W_1^{(0)}}$ and ${w_2^{(0)}}$ are created as,"
   ]
  },
  {
   "cell_type": "code",
   "execution_count": 20,
   "id": "yOEV7sfUjHjI",
   "metadata": {
    "id": "yOEV7sfUjHjI"
   },
   "outputs": [],
   "source": [
    "import numpy as np\n",
    "np.random.seed(0)\n",
    "W_1_init = np.random.randn(5, 2)/10\n",
    "w_2_init = np.random.randn(5, 1)/10"
   ]
  },
  {
   "cell_type": "markdown",
   "id": "WKeo-EiIwU2z",
   "metadata": {
    "id": "WKeo-EiIwU2z"
   },
   "source": [
    "The **hidden layer logic of multilayer perceptron** and the suitable **logartihmic loss function** is constructed using **JAX**,"
   ]
  },
  {
   "cell_type": "code",
   "execution_count": 21,
   "id": "Zczn3XwykgTc",
   "metadata": {
    "id": "Zczn3XwykgTc"
   },
   "outputs": [],
   "source": [
    "def hidden(beta, theta, x):\n",
    "  return jnn.sigmoid(jnn.sigmoid(x@theta.T)@beta) #hidden layer is constructed\n",
    "\n",
    "def logloss1(beta, theta, y, x):\n",
    "  return jnp.mean(-y*jnp.log(hidden(beta, theta, x)) - (1-y)*(jnp.log(1-hidden(beta, theta, x)))) #regular loss function applied on MLP\n",
    "\n",
    "dlogloss1_1 = jax.value_and_grad(logloss1)\n",
    "dlogloss1_2 = jax.value_and_grad(logloss1, argnums=1) #gradient of the second argument"
   ]
  },
  {
   "cell_type": "markdown",
   "id": "-OCDFX3Cw5-s",
   "metadata": {
    "id": "-OCDFX3Cw5-s"
   },
   "source": [
    "A **gradient descent function** suitable for the *multilayer perceptron* that takes ${K}$ and ${\\eta}$ as input can be written,"
   ]
  },
  {
   "cell_type": "code",
   "execution_count": 24,
   "id": "Quajcz-Zixc4",
   "metadata": {
    "id": "Quajcz-Zixc4"
   },
   "outputs": [],
   "source": [
    "def gradDescNN(beta, theta, y, x, steps, step_size):\n",
    "  for i in range(steps):\n",
    "    theta = theta - step_size*dlogloss1_2(beta, theta, y, x)[1] #updating theta as W1 \n",
    "    beta = beta - step_size*dlogloss1_1(beta, theta, y, x)[1] #updating beta as w2\n",
    "  return beta, theta"
   ]
  },
  {
   "cell_type": "markdown",
   "id": "xJIeaz7xw9-J",
   "metadata": {
    "id": "xJIeaz7xw9-J"
   },
   "source": [
    "When applied,"
   ]
  },
  {
   "cell_type": "code",
   "execution_count": 26,
   "id": "fnhpjdA4l4di",
   "metadata": {
    "id": "fnhpjdA4l4di"
   },
   "outputs": [],
   "source": [
    "w_2_finit, W_1_finit = gradDescNN(w_2_init, W_1_init, np.expand_dims(y.to_numpy(),1), X, 10000, 0.05)"
   ]
  },
  {
   "cell_type": "markdown",
   "id": "CxVcnnI8xIvj",
   "metadata": {
    "id": "CxVcnnI8xIvj"
   },
   "source": [
    "${W_1^{(10000)} = \\begin{bmatrix} 0.077 & -2.566 \\\\ -0.086 & 4.983 \\\\ 0.078 & -3.467 \\\\ 0.078 & -3.526 \\\\ -0.096 & 0.730\\end{bmatrix}}$"
   ]
  },
  {
   "cell_type": "code",
   "execution_count": 27,
   "id": "SNPEx-NRxK9g",
   "metadata": {
    "colab": {
     "base_uri": "https://localhost:8080/"
    },
    "id": "SNPEx-NRxK9g",
    "outputId": "c507d804-aaae-4f27-8918-3160b76b3844"
   },
   "outputs": [
    {
     "data": {
      "text/plain": [
       "DeviceArray([[ 0.07700372, -2.566101  ],\n",
       "             [-0.0857359 ,  4.983382  ],\n",
       "             [ 0.07759133, -3.4665794 ],\n",
       "             [ 0.07778258, -3.5262153 ],\n",
       "             [-0.09612349,  0.73036647]], dtype=float32)"
      ]
     },
     "execution_count": 27,
     "metadata": {
      "tags": []
     },
     "output_type": "execute_result"
    }
   ],
   "source": [
    "W_1_finit"
   ]
  },
  {
   "cell_type": "markdown",
   "id": "37d0ac96",
   "metadata": {
    "id": "37d0ac96"
   },
   "source": [
    "${w_2^{(10000)} = \\begin{bmatrix} -3.128 \\\\ 5.492 \\\\ -4.102 \\\\ -4.175 \\\\ 0.868\\end{bmatrix}}$"
   ]
  },
  {
   "cell_type": "code",
   "execution_count": 28,
   "id": "Wiqjk7FaxOTJ",
   "metadata": {
    "colab": {
     "base_uri": "https://localhost:8080/"
    },
    "id": "Wiqjk7FaxOTJ",
    "outputId": "b4aa1cf9-b2ea-4942-9c4e-32b3095514be"
   },
   "outputs": [
    {
     "data": {
      "text/plain": [
       "DeviceArray([[-3.127946  ],\n",
       "             [ 5.4920883 ],\n",
       "             [-4.101766  ],\n",
       "             [-4.1746426 ],\n",
       "             [ 0.86792594]], dtype=float32)"
      ]
     },
     "execution_count": 28,
     "metadata": {
      "tags": []
     },
     "output_type": "execute_result"
    }
   ],
   "source": [
    "w_2_finit"
   ]
  },
  {
   "cell_type": "markdown",
   "id": "y7kKcolTxgiB",
   "metadata": {
    "id": "y7kKcolTxgiB"
   },
   "source": [
    "Also, ${L(W_1^{(10000)}, w_2^{(10000)}) = 0.106}$,"
   ]
  },
  {
   "cell_type": "code",
   "execution_count": 29,
   "id": "aWTW4tT4jQtm",
   "metadata": {
    "colab": {
     "base_uri": "https://localhost:8080/"
    },
    "id": "aWTW4tT4jQtm",
    "outputId": "7d2cd873-b7c6-4b1c-a09a-c02ab2905e2d"
   },
   "outputs": [
    {
     "data": {
      "text/plain": [
       "(DeviceArray(0.1064487, dtype=float32), DeviceArray([[ 0.00203334],\n",
       "              [-0.00072648],\n",
       "              [ 0.00229254],\n",
       "              [ 0.00230935],\n",
       "              [ 0.00050734]], dtype=float32))"
      ]
     },
     "execution_count": 29,
     "metadata": {
      "tags": []
     },
     "output_type": "execute_result"
    }
   ],
   "source": [
    "dlogloss1_1(w_2_finit, W_1_finit, np.expand_dims(y.to_numpy(),1), X) #loss found"
   ]
  },
  {
   "cell_type": "markdown",
   "id": "5dd9b628",
   "metadata": {
    "id": "5dd9b628"
   },
   "source": [
    "## Q3-Part c\n",
    "**Estimate** the *labels* for each observation similar to **2c**. Using your estimated labels, **compute** and **print** an ***accuracy score*** of your algorithm on the training data.\n",
    "\n",
    "When trained, the **accuracy score** is ${0.97}$. Out of ${100}$ observations, **Multilayer Perceptron** has been able to classify ${97}$ of them correctly."
   ]
  },
  {
   "cell_type": "code",
   "execution_count": 30,
   "id": "EJtODnjwn6nE",
   "metadata": {
    "colab": {
     "base_uri": "https://localhost:8080/"
    },
    "id": "EJtODnjwn6nE",
    "outputId": "b2c6bcd1-a3b8-4bc9-b8b4-409aca8d4121"
   },
   "outputs": [
    {
     "data": {
      "text/plain": [
       "0.97"
      ]
     },
     "execution_count": 30,
     "metadata": {
      "tags": []
     },
     "output_type": "execute_result"
    }
   ],
   "source": [
    "accuracy(np.expand_dims(y.to_numpy(),1), hidden(w_2_finit, W_1_finit, X)) "
   ]
  },
  {
   "cell_type": "markdown",
   "id": "fwXtbrF-xmyC",
   "metadata": {
    "id": "fwXtbrF-xmyC"
   },
   "source": [
    "The performance of **Multilayer Perceptron** is slightly better compared to that of **logistic regression**, after their training."
   ]
  },
  {
   "cell_type": "markdown",
   "id": "ba27bc42",
   "metadata": {
    "id": "ba27bc42"
   },
   "source": [
    "## Q3-Part d\n",
    "**Plot** the *decision boundary* for the MLP solution, again you can make use of Code Snippet 2. **Compare** the result to the one you obtained with logistic regression. How/why are they similar/different?"
   ]
  },
  {
   "cell_type": "code",
   "execution_count": 31,
   "id": "lGIhx3TVoK74",
   "metadata": {
    "colab": {
     "base_uri": "https://localhost:8080/",
     "height": 571
    },
    "id": "lGIhx3TVoK74",
    "outputId": "20d77666-d0df-4ee1-a6c6-71d33e5017d0"
   },
   "outputs": [
    {
     "data": {
      "text/plain": [
       "<matplotlib.contour.QuadContourSet at 0x7f22e1dbca90>"
      ]
     },
     "execution_count": 31,
     "metadata": {
      "tags": []
     },
     "output_type": "execute_result"
    },
    {
     "data": {
      "image/png": "[encoded data removed]",
      "text/plain": [
       "<Figure size 576x576 with 1 Axes>"
      ]
     },
     "metadata": {
      "needs_background": "light",
      "tags": []
     },
     "output_type": "display_data"
    }
   ],
   "source": [
    "no_pts = 100\n",
    "x_1 = np.linspace(-11.5, -5, no_pts)\n",
    "x_2 = np.linspace(-1.5, 1.5, no_pts)\n",
    "x_1_grid, x_2_grid = np.meshgrid(x_1, x_2)\n",
    "p_grid = np.zeros((no_pts, no_pts))\n",
    "for i in range(no_pts):\n",
    "  for j in range(no_pts):\n",
    "    x_1 = x_1_grid[i, j]\n",
    "    x_2 = x_2_grid[i, j]\n",
    "    p_grid[i, j] = np.around(hidden(w_2_finit, W_1_finit, np.array([[x_1, x_2]]))[:,0], decimals=0)\n",
    "fig, ax = plt.subplots(figsize=(8,8))\n",
    "fig.suptitle(\"Scatter Plots of Points Transformed with Gradient Descent Applied Decision Boundary\", size=20)\n",
    "ax.set_xlim(-11.5,-5)\n",
    "ax.set_ylim(-1.5,1.5)\n",
    "ax.set(ylabel='2nd Column', xlabel='1st Column')\n",
    "plt.scatter(X[:,0],X[:,1], marker='o', c=y, s=150)\n",
    "ax.contour(x_1_grid, x_2_grid, p_grid, levels=[.5])"
   ]
  },
  {
   "cell_type": "markdown",
   "id": "5e1ba6d0",
   "metadata": {
    "id": "5e1ba6d0"
   },
   "source": [
    "When visualized, the two boundaries seem to be *quite close* and *similar*. This can also be understood from the accuracy score as *logistic regression model* has only predicted one observation label wrong compared to the prediction performance of the *multilayer perception model*. \n",
    "\n",
    "There is a slight *difference* between the two decision boundaries as implied by the visualizations. The decision boundary of the multilayer perception (MLP) model seems to be better accommodated and adjusted compared to that of logistic regression model. It can be seen that the decision boundaries have *different* slopes compared to one another. Moreover, the decision boundary of the logistic regression seems of as a more flat line, depicting some form of more monotonous separation between two classes. Whereas, the decision boundary of the multilayer perceptron does have a more obvious slope and implies a change in the classification preference while taking into account the relationship between the two features depicted. In other words, the decision boundary of the multilayer perceptron reveals also that the two features at hand need to be increased or decreased together to classify the flower as coming from different species. \n",
    "\n",
    "Keeping these in mind, it can be stated that the decision boundary of the *multilayer perceptron model* is slightly more robust in this application compared to *logistic regression model*. The slope of the line is more obvious meaning that the parameters are better tuned. Though the ${K}$ and ${\\eta}$ values are the **same** for both models, part of the difference in final performance can be attributed to the **difference in number of parameters**. With more parameters to be adjusted and take control of the line, the decision boundary of the MLP model is more differentiated as it also has the ability to yield non-linear decision boundaries. Ofcourse, this is probably only visible after certain number of iterations as it is some way harder to train and tune more parameters introduced by the model."
   ]
  },
  {
   "cell_type": "markdown",
   "id": "3550947b",
   "metadata": {
    "id": "3550947b"
   },
   "source": [
    "# Question 4\n",
    "\n",
    "*Discuss* some aspects of the training process and decision making that follows:"
   ]
  },
  {
   "cell_type": "markdown",
   "id": "c1908d2f",
   "metadata": {
    "id": "c1908d2f"
   },
   "source": [
    "## Q4-Part a\n",
    "If we did not provide you with ${K}$ and ${\\eta}$ values, what would be a reasonable way of selecting them?\n",
    "\n",
    "The *parameter selection* and *tuning* is an important part of training learning algorithms. Most of the time, various learning parameters and combinations are tried repeatedly to check for the best performance in some cross-validation set. As can be understood, there is *not* a single rule for choosing the parameters as most of the time it is quite ambiguous to talk about the *perfect/correct* parameter itself. Nevertheless, there are some rules of thumb that can also be utilized in these models, \n",
    "\n",
    "The *learning parameters* (${\\eta}$ and ${K}$ in this case) being too high may lead to two various unwanted behaviour. \n",
    "\n",
    "Firstly, after some number of iterations, the model may *overshoot* the local or global minimum point ??? of the objective function (log loss in this case). To put it differently, after some amount of decrease in the objective function, an iteration may send the next parameters ahead of their optimal values. Once transported to the other side of the minimum point, the direction of the gradient would change a lot as the gradient would still act as a pointer to the local or global minimum. Nevertheless, with such a *high* learning parameter value, the algorithm will again overshoot the minimum and the parameters would stay now very backwards of the minimum point. With more and more iterations, the parameters would keep on going to unwanted values and may never diverge to or close to their local or global minimum.\n",
    "\n",
    "Another unwanted behavior may be the increased possibility of *overfitting*, that is the model capturing random fluctuations and co-occurences of *similar behavior* as important and revealing for the output. Statistically, **different samples** from the **same distribution** may have some amount of difference in their statistical figures. Applied for this problem, the whole distribution of the species does have a certain ***minimum*** point in which the features are correctly and optimally assigned coefficients stating their degree of relevance to the output. Nevertheless, when the sample at hand is considered, the story can be a little different. For example, because of data collecting a small amount of noise might have been added to the observed features or the sample might have been selected in such a way that an unignorable part of the observations have a similar amount of difference from the original feature values of the distribution. With these, it can be said that the **theoretical minimum** of the whole distribution and the **observed minimum** of the sample at hand are usually ***different*** compared to each other. With a *high* ${\\eta}$ or ${K}$ value and depending on the structure of the model (which will be discussed further in **4c**), the coefficients of features can be tuned in so much accordance with the sample that the optimal tuning for the whole distribution can be missed. \n",
    "\n",
    "A small value of ${\\eta}$ is also a burden as the learning can be slow and computationally hard, taking longer times and requiring more iterations, ${K}$ being bigger. The final model might be *underfitted*, approaching to the optimal point but not being able to get quite close to it. A similar scenario can also be applied for small ${K}$ and not high ${\\eta}$, the training may stop at a very early point, *underfitting* the data.\n",
    "\n",
    "Because of these reasons, it is good practice to monitor the training period using the loss function at some iterations. This way, a sudden increase in the loss function value can be seen and the parameters can be decreased. Also, if the loss function is staying nearly *constant* after some iterations, this can be interpreted as the minimum point and the training can be terminated to not result in *over-fitting*. Many of the time the researchers start with *high* ${\\eta}$ values as the initial point is usually very far away from the minimum. Then, monitoring the decrease in loss values, they start decreasing the ${\\eta}$ at further iterations to avoid the possibility of *overshoooting*. **Momentum** is also another variable that is helpful in controlling the movement in the function by keeping information coming from previous iterations and blending it with the current value of gradient vector. All in all, it can be stated that allowing for a medium number of iterations ${K}$ and starting for a relatively high value of ${\\eta}$ while monitoring the **loss function** to manually adjust and decrease the value of ${\\eta}$ in further iterations is a good practice.\n",
    "\n",
    "For this problem originally, ${K = 1000}$ and ${\\eta = 0.001}$, which resulted in a very poor training performance and *underfitting*, the current values of ${K = 10000}$ and ${\\eta = 0.05}$ seems good. Nevertheless, from high accuracies even these might have led to *over-fitting*. These should be tested on a seperate test set. "
   ]
  },
  {
   "cell_type": "markdown",
   "id": "91489a95",
   "metadata": {
    "id": "91489a95"
   },
   "source": [
    "## Q4-Part b\n",
    "If we wanted to do **model selection** between logistic regression and multilayer perceptron, what would be a correct way of doing this, in terms of ***generalization***?\n",
    "\n",
    "In general, **Multilayer Perceptron Models** are more complex compared to **Logistic Regression** as they present better ability to adjust the feature co-efficients. These models, as explained throughly in **4c**, are able to yield more differentiated and even non-linear decision boundaries as they make use of not only the features seperately but also different cross-combinations of them. Because of this, depending on the structure and complexity of the problem **MLP** can be trained better and more elaborately. Nonetheless, there are also increased risks for *over-fitting* with these types of models.\n",
    "\n",
    "In this problem, there are *two* features both seem as good indicators of the flower species even from the results obtained in **1a**. The problem is not complex and the features by themselves are good predictors so there is not much need for different combinations. The training results and the decision boundaries coming from both the models are very close. It can be understood that their performances will be similar for unseen data. This actually proves that for this problem, the complexity of the **MLP** does not add a lot more usefulness. Hence, for the problem at the hand with more data or higher ${\\eta}$ and ${K}$ values, **MLP** may *overfit* the decision boundary, alhtough the *generalization abilities* are **very close** now. Therefore with more data or for higher ${\\eta}$ and ${K}$ values, using **logistic regression** is suitable and good for the ability of generalization."
   ]
  },
  {
   "cell_type": "markdown",
   "id": "7dd27af4",
   "metadata": {
    "id": "7dd27af4"
   },
   "source": [
    "## Q4-Part c\n",
    "What would be a correct way of selecting ${p}$ for the MLP, in terms of ***generalization***?\n",
    "\n",
    "In general, there are more than one way to play with and find the optimal performance of the **multilayer perceptron models**. These include, changing learning parameters ${K}$ and ${\\eta}$, changing number of hidden layers and changing the number of units/nodes within the hidden layers. All these might have different effects on the performance and the ability of generalization of the model. The exact influences depend on several other factors such as the initial and final value of parameter, the nature of the problem and given data and the amount of training data. Though there are no exact and definite rules, some things to consider while **choosing ${p}$** for good generalization can be stated and its applications to this model can be discussed.\n",
    "\n",
    "The nodes in the hidden layer can be thought of as additional parameters to better scale and adjust the features of the observed data. In the feature space, there might be more than one combination of the features that is in some way revealing for the underlying structure of the problem at hand. For example, a feature may contain a certain amount of information by itself and another one may contain some other information that is also useful for the regression/classification task. Nevertheless, when combined the two features may act differently and indicate some other possibility for the observation. The nodes in the hidden layers are useful to create and find the useful combinations of the features that are the best at relating inputs to the outputs. To put it differently, the nodes yield different combinations of the features by amplifying some while dampening some. \n",
    "\n",
    "When thought this way, there is a strong relationship between the amount of features and the number of nodes in the hidden layer ${p}$. As the number of features that are useful for the model increases, there is the possiblity of more and more complex relations including very different combinations of these features. For small number of features on the other hand, the range of possible combinations are narrower. It can be stated that in general it is good to **increase** the parameter ${p}$ as the amount of features **increases**, but ofcourse with limits.\n",
    "\n",
    "Putting it differently, using small amount of hidden units for a problem in which there are a lot of features considered useful is dangerous. In this way, it is guaranteed that there will be learning to some degree but not to an ideal point. The model will be **underfitted** because the complex nature of the problem resulted from different interactions of huge number of features will not be able to be accomodated and captured by the model at hand. Nevertheless, this is not dangerous in terms of generalization. Another point to be cautious on is to not increase the number of hidden units a lot. With lower number of features and too many nodes, some of the nodes will be adjusted to capture inconsistent combinations that are result of random fluctuations in life or data collecting. In other words, the model will try to explain the problem to the fullest while some nodes finding and learning random noises as useful. In this case, the model would lose the ability to **generalize** and hence perform poorly on the new data, detecting some noises and using them to predict the amount or label of the new observations wrongly.\n",
    "\n",
    "Applied to this model, there are **two features**, which when plotted under **SVD** seem to reveal very obvious and basic **decision boundary** to the observers' naked eye. It can be stated that both the features are relevant to the classification problem and the relationship of the features with the outputs are not much complex. Hence, for this **two feature binary classification problem**, the underlying relationships are not very complicated and the model needed should also be not complicated. Using a ***single hidden layer*** with ${3-6}$ nodes seem reasonable as there are not a wide range of possiblities. Even from the results, altough **MLP** performed better, the performances have been quite close. This means that the nature of the problem is not very complex and even a **logistic regression**, using only the two features seperately is performing good. Nevertheless, it would be more healthy to compare the performances on an independent test set. But still, it can be claimed that to not use the ability to **generalize** the new data, the number of the nodes should not be increased too much and the current value of ${5}$ seems already very useful."
   ]
  }
 ],
 "metadata": {
  "colab": {
   "collapsed_sections": [],
   "name": "2017402069_cetin_cmpe482_assignment_5.ipynb",
   "provenance": []
  },
  "kernelspec": {
   "display_name": "Python 3",
   "language": "python",
   "name": "python3"
  },
  "language_info": {
   "codemirror_mode": {
    "name": "ipython",
    "version": 3
   },
   "file_extension": ".py",
   "mimetype": "text/x-python",
   "name": "python",
   "nbconvert_exporter": "python",
   "pygments_lexer": "ipython3",
   "version": "3.9.5"
  }
 },
 "nbformat": 4,
 "nbformat_minor": 5
}
