{
 "cells": [
  {
   "cell_type": "markdown",
   "metadata": {},
   "source": [
    "# CMPE482 - Spring 2021 - Assignment 1\n",
    "**Student ID**: 2017402069 \\\n",
    "**Name**: Nilüfer Çetin \\\n",
    "**Date**: 03.04.2021"
   ]
  },
  {
   "cell_type": "markdown",
   "metadata": {},
   "source": [
    "The following six questions are part of the Assignment 1 of CMPE482 course. It should be noted that these problems might have various solutions and the guidelines provided by the student might not be the most effective or quickest solutions to exist. "
   ]
  },
  {
   "cell_type": "markdown",
   "metadata": {},
   "source": [
    "First, the packages that can be useful or necessary for the solutions are imported."
   ]
  },
  {
   "cell_type": "code",
   "execution_count": 1,
   "metadata": {},
   "outputs": [],
   "source": [
    "import numpy as np\n",
    "import scipy as sp\n",
    "import matplotlib.pyplot as plt\n",
    "import math\n",
    "from scipy.misc import derivative\n",
    "import scipy.linalg"
   ]
  },
  {
   "cell_type": "markdown",
   "metadata": {},
   "source": [
    "# Question 1"
   ]
  },
  {
   "cell_type": "markdown",
   "metadata": {},
   "source": [
    "Implement the **Gram-Schmidt** algorithm. Generate a ${5x5}$ matrix called ${X}$, where each element is drawn from the **unit Gaussian distribution**. Use your Gram-Schmidt algorithm to obtain the decomposition where ${X = QR}$ has ${Q}$ orthonormal columns\n",
    "and ${R}$ is upper triangular. Print out the following quantities to show that your algorithm works as intended:"
   ]
  },
  {
   "cell_type": "markdown",
   "metadata": {},
   "source": [
    "To implement the **Gram-Schmidt** algorithm along with **${QR}$-decomposition**, two functions from [IALA Python Companion of Stephen Boyd and Lieven Vandenberghe](https://ses.library.usyd.edu.au/bitstream/handle/2123/21370/vmls-python-companion.pdf?sequence=3&isAllowed=y) will be used."
   ]
  },
  {
   "cell_type": "code",
   "execution_count": 9,
   "metadata": {},
   "outputs": [
    {
     "data": {
      "text/plain": [
       "array([[-0.10039398, -0.60030955, -0.35987249, -0.07283325,  0.17094405],\n",
       "       [-1.38649059, -1.34082798,  0.92313506,  1.12255285, -0.54123611],\n",
       "       [ 0.24396666,  0.4600978 ,  0.30614568,  0.2019809 ,  0.80483663],\n",
       "       [ 0.6386225 ,  1.70595639,  2.05991145, -1.06265921,  0.38993445],\n",
       "       [-0.95647299, -0.29511818, -1.29787959, -1.39783162, -0.5143155 ]])"
      ]
     },
     "execution_count": 9,
     "metadata": {},
     "output_type": "execute_result"
    }
   ],
   "source": [
    "##Gram-Schmidt Algorithm from the credited text book's Python Companion\n",
    "def gramschmidt(a):\n",
    "    q = []                                              ##forming the orthonormal matrix (basis)\n",
    "    for i in range(len(a)):                             ##orthogonalization of row vectors\n",
    "        q_tilde = a[i]\n",
    "        for j in range(len(q)):\n",
    "            q_tilde = q_tilde - (q[j] @ a[i])*q[j]      ##subtracting the already existing dimensions from the vector at hand\n",
    "        if np.sqrt(sum(q_tilde**2)) <= 1e-10:           ##testing if the vector is linearly independent/adding a new dimension\n",
    "            return q\n",
    "        else:                                           ##normalization of the new vector by dividing to norm\n",
    "            q_tilde = q_tilde / np.sqrt(sum(q_tilde**2))\n",
    "            q.append(q_tilde)\n",
    "    return q                                            ##note that this is actually the transpose/inverse of the actual basis\n",
    "\n",
    "##Q-R decomposition from the credited text book's Python Companion\n",
    "def QR_fact(A):\n",
    "    Qtranspose = np.array(gramschmidt(A.T))             ##Inverse of an orthonormal matrix is its transpose\n",
    "    R = Qtranspose @ A                                  ##A = Q.R -> Q-1.A = I.R -> Q(T).A = R\n",
    "    Q = Qtranspose.T\n",
    "    return Q, R\n",
    "\n",
    "##Constructing the desired matrix\n",
    "X = np.random.normal(0, 1, (5,5))\n",
    "X"
   ]
  },
  {
   "cell_type": "markdown",
   "metadata": {},
   "source": [
    "# Q1 - Part (a)\n",
    "\n",
    "Find ${Q^TQ}$."
   ]
  },
  {
   "cell_type": "markdown",
   "metadata": {},
   "source": [
    "Transpose of an ${n x n}$ orthonormal matrix is the inverse of it also. Inner products of two **different** columns will be ${0}$ because of orthogonality and inner products of a **column vector with itself** will be ${1}$ because of the normalization procedure. Hence,\n",
    "\n",
    "${Q^TQ = Q^{-1}Q = I}$"
   ]
  },
  {
   "cell_type": "code",
   "execution_count": 10,
   "metadata": {},
   "outputs": [
    {
     "data": {
      "text/plain": [
       "array([[ 1., -0., -0., -0., -0.],\n",
       "       [-0.,  1.,  0., -0.,  0.],\n",
       "       [-0.,  0.,  1.,  0.,  0.],\n",
       "       [-0., -0.,  0.,  1.,  0.],\n",
       "       [-0.,  0.,  0.,  0.,  1.]])"
      ]
     },
     "execution_count": 10,
     "metadata": {},
     "output_type": "execute_result"
    }
   ],
   "source": [
    "X_ortho, X_upper = QR_fact(X)\n",
    "np.round(((X_ortho).T)@X_ortho, 6)"
   ]
  },
  {
   "cell_type": "markdown",
   "metadata": {},
   "source": [
    "# Q1 - Part (b)\n",
    "\n",
    "Find ${QQ^T}$."
   ]
  },
  {
   "cell_type": "markdown",
   "metadata": {},
   "source": [
    "${Q}$ is a ${n x n}$ matrix and its rows and columns are linearly independent being orthonormal. Hence, both left and right inverses **exist** and are **equal**, which is ${Q^T = Q^{-1}}$. Consequently,\n",
    "\n",
    "${QQ^T = QQ^{-1} = I}$"
   ]
  },
  {
   "cell_type": "code",
   "execution_count": 11,
   "metadata": {
    "scrolled": true
   },
   "outputs": [
    {
     "data": {
      "text/plain": [
       "array([[ 1., -0., -0.,  0.,  0.],\n",
       "       [-0.,  1.,  0.,  0.,  0.],\n",
       "       [-0.,  0.,  1.,  0., -0.],\n",
       "       [ 0.,  0.,  0.,  1.,  0.],\n",
       "       [ 0.,  0., -0.,  0.,  1.]])"
      ]
     },
     "execution_count": 11,
     "metadata": {},
     "output_type": "execute_result"
    }
   ],
   "source": [
    "np.round((X_ortho)@(X_ortho).T, 6)"
   ]
  },
  {
   "cell_type": "markdown",
   "metadata": {},
   "source": [
    "# Q1 - Part (c)\n",
    "\n",
    "Find ${R}$."
   ]
  },
  {
   "cell_type": "markdown",
   "metadata": {},
   "source": [
    "For the matrix ${R}$, the element on ${i^{th}}$ row of ${j^{th}}$ column ${R_{i, j}}$ is the component of ${j^{th}}$ column vector of the matrix ${X}$ in the direction of ${i^{th}}$ column vector of the matrix ${Q}$. Because the Gram-Schmidt makes vectors linearly independent one by one in the sequence they have in the original matrix ${X}$, ${R_{i, j}}$ where ${j < i}$ are bound to be ${0}$. Hence, ${R}$ is **upper triangular**.   "
   ]
  },
  {
   "cell_type": "code",
   "execution_count": 12,
   "metadata": {
    "scrolled": true
   },
   "outputs": [
    {
     "data": {
      "text/plain": [
       "array([[ 1.820614,  1.869313,  0.762267, -0.46219 ,  0.917581],\n",
       "       [-0.      ,  1.368552,  1.162805, -1.391868,  0.069518],\n",
       "       [-0.      ,  0.      ,  2.25166 ,  1.208145,  0.166863],\n",
       "       [-0.      , -0.      ,  0.      ,  0.882538,  0.188508],\n",
       "       [-0.      ,  0.      ,  0.      , -0.      ,  0.690162]])"
      ]
     },
     "execution_count": 12,
     "metadata": {},
     "output_type": "execute_result"
    }
   ],
   "source": [
    "np.round(X_upper, 6)"
   ]
  },
  {
   "cell_type": "markdown",
   "metadata": {},
   "source": [
    "# Q1 - Part (d)\n",
    "\n",
    "Find ${QR - X}$."
   ]
  },
  {
   "cell_type": "markdown",
   "metadata": {},
   "source": [
    "By definition the **${QR-}$decomposition** expresses the matrix ${X}$ as the matrix multiplication of an orhtonormal matrix and an upper triangular matrix, if the columns of ${X}$ are linearly independent.\n",
    "\n",
    "${X = QR}$ implies ${X - QR = X - X = 0_{5 x 5}}$ "
   ]
  },
  {
   "cell_type": "code",
   "execution_count": 13,
   "metadata": {
    "scrolled": true
   },
   "outputs": [
    {
     "data": {
      "text/plain": [
       "array([[ 0.,  0.,  0., -0., -0.],\n",
       "       [-0.,  0.,  0.,  0.,  0.],\n",
       "       [-0., -0.,  0.,  0., -0.],\n",
       "       [-0., -0.,  0., -0., -0.],\n",
       "       [ 0.,  0.,  0.,  0.,  0.]])"
      ]
     },
     "execution_count": 13,
     "metadata": {},
     "output_type": "execute_result"
    }
   ],
   "source": [
    "np.round(X_ortho@X_upper - X, 6)"
   ]
  },
  {
   "cell_type": "markdown",
   "metadata": {},
   "source": [
    "# Question 2"
   ]
  },
  {
   "cell_type": "markdown",
   "metadata": {},
   "source": [
    "Consider the matrix ${\\begin{bmatrix} 1 & -4 \\\\ 2 & 1 \\end{bmatrix}}$. Draw the columns of this matrix as two vectors in ${\\mathbb{R}^2}$. Then compute the ${QR}$-decomposition of this matrix using the algorithm you developed in Q1 and plot the columns of the resulting ${Q}$ matrix in ${\\mathbb{R}^2}$."
   ]
  },
  {
   "cell_type": "markdown",
   "metadata": {},
   "source": [
    "# Q2 - Part (a)\n",
    "\n",
    "Draw the columns of the matrix."
   ]
  },
  {
   "cell_type": "code",
   "execution_count": 5,
   "metadata": {},
   "outputs": [
    {
     "data": {
      "text/plain": [
       "Text(-4.9, 0, 'second vector')"
      ]
     },
     "execution_count": 5,
     "metadata": {},
     "output_type": "execute_result"
    },
    {
     "data": {
      "image/png": "[encoded data removed]",
      "text/plain": [
       "<Figure size 576x576 with 1 Axes>"
      ]
     },
     "metadata": {
      "needs_background": "light"
     },
     "output_type": "display_data"
    }
   ],
   "source": [
    "mtr = np.array([[1, -4], [2, 1]])    ##constructing matrix\n",
    "mtr_col1 = mtr[:,0]           ##choosing columns\n",
    "mtr_col2 = mtr[:,1]\n",
    "\n",
    "fig, ax = plt.subplots(figsize=(8,8))\n",
    "fig.suptitle(\"Column Vectors of Original Matrix\", size=20)\n",
    "ax.arrow(0, 0, *mtr_col1, width=0.05, head_width=0.15, head_length=0.15, color='m')\n",
    "ax.arrow(0, 0, *mtr_col2, width=0.05, head_width=0.15, head_length=0.15, color='r')\n",
    "ax.set_xlim(-5,2)\n",
    "ax.set_ylim(-5,5)\n",
    "ax.set(ylabel='y', xlabel='x')\n",
    "ax.annotate(\"first vector\", xy=(1, 2), xytext=(1, 1), arrowprops=dict(arrowstyle=\"->\"))\n",
    "ax.annotate(\"second vector\", xy=(-4, 1), xytext=(-4.9, 0), arrowprops=dict(arrowstyle=\"->\"))"
   ]
  },
  {
   "cell_type": "markdown",
   "metadata": {},
   "source": [
    "# Q2 - Part (b)\n",
    "\n",
    "Draw the columns of ${Q}$ matrix"
   ]
  },
  {
   "cell_type": "code",
   "execution_count": 17,
   "metadata": {},
   "outputs": [
    {
     "data": {
      "text/plain": [
       "array([[ 0.4472136 , -0.89442719],\n",
       "       [ 0.89442719,  0.4472136 ]])"
      ]
     },
     "execution_count": 17,
     "metadata": {},
     "output_type": "execute_result"
    }
   ],
   "source": [
    "mtr_ortho, mtr_upper = QR_fact(mtr)\n",
    "mtr_ortho"
   ]
  },
  {
   "cell_type": "code",
   "execution_count": 19,
   "metadata": {},
   "outputs": [
    {
     "data": {
      "text/plain": [
       "Text(-0.9, -0.6, 'second vector')"
      ]
     },
     "execution_count": 19,
     "metadata": {},
     "output_type": "execute_result"
    },
    {
     "data": {
      "image/png": "[encoded data removed]",
      "text/plain": [
       "<Figure size 576x576 with 1 Axes>"
      ]
     },
     "metadata": {
      "needs_background": "light"
     },
     "output_type": "display_data"
    }
   ],
   "source": [
    "mtrort_col1 = mtr_ortho[:,0]      \n",
    "mtrort_col2 = mtr_ortho[:,1]\n",
    "\n",
    "fig, ax = plt.subplots(figsize=(8,8))\n",
    "fig.suptitle(\"Column Vectors of Orthonormalized Matrix\", size=20)\n",
    "ax.arrow(0, 0, *mtrort_col1, width=0.03, head_width=0.15, head_length=0.15, color='m')\n",
    "ax.arrow(0, 0, *mtrort_col2, width=0.03, head_width=0.15, head_length=0.15, color='r')\n",
    "ax.set_xlim(-2,2)\n",
    "ax.set_ylim(-2,2)\n",
    "ax.set(ylabel='y', xlabel='x')\n",
    "ax.annotate(\"first vector\", xy=(0.42, 0.87), xytext=(0.5, 0), arrowprops=dict(arrowstyle=\"->\"))\n",
    "ax.annotate(\"second vector\", xy=(-0.87, 0.42), xytext=(-0.9, -0.6), arrowprops=dict(arrowstyle=\"->\"))\n"
   ]
  },
  {
   "cell_type": "markdown",
   "metadata": {},
   "source": [
    "As can be seen from the visualization, the first column vector of orthonormalized matrix is in the direction of the first column vector of original matrix. However, the second vector is **orthogonal** to the first vector in the orthonormalized matrix visualization as opposed to the visualization of original matrix column vectors."
   ]
  },
  {
   "cell_type": "markdown",
   "metadata": {},
   "source": [
    "# Question 3"
   ]
  },
  {
   "cell_type": "markdown",
   "metadata": {},
   "source": [
    "Let ${H}$ be a ${200 x 200}$ **Hilbert Matrix** whose entries are given by the equation,\n",
    "\n",
    "${H_{i, j} = \\frac{1}{i + j - 1}}$\n",
    "for ${1 \\leq i, j \\leq 200}$. Form a ${200 x 200}$ matrix X by using the equation,\n",
    "\n",
    "${X = 10^{-5}I + H}$"
   ]
  },
  {
   "cell_type": "code",
   "execution_count": 2,
   "metadata": {},
   "outputs": [
    {
     "data": {
      "text/plain": [
       "array([[1.        , 0.5       , 0.33333333, ..., 0.00505051, 0.00502513,\n",
       "        0.005     ],\n",
       "       [0.5       , 0.33333333, 0.25      , ..., 0.00502513, 0.005     ,\n",
       "        0.00497512],\n",
       "       [0.33333333, 0.25      , 0.2       , ..., 0.005     , 0.00497512,\n",
       "        0.0049505 ],\n",
       "       ...,\n",
       "       [0.00505051, 0.00502513, 0.005     , ..., 0.00253165, 0.00252525,\n",
       "        0.00251889],\n",
       "       [0.00502513, 0.005     , 0.00497512, ..., 0.00252525, 0.00251889,\n",
       "        0.00251256],\n",
       "       [0.005     , 0.00497512, 0.0049505 , ..., 0.00251889, 0.00251256,\n",
       "        0.00250627]])"
      ]
     },
     "execution_count": 2,
     "metadata": {},
     "output_type": "execute_result"
    }
   ],
   "source": [
    "##Necessary code to create the desired matrix\n",
    "x = sp.linalg.hilbert(200)           ##Hilbert matrix of size 200x200\n",
    "y = (10**(-5))*np.identity(200)      ##Identity matrix of size 200x200 multiplied with scalar 10^(-5)\n",
    "z = x + y                            ##Desired matrix\n",
    "x"
   ]
  },
  {
   "cell_type": "markdown",
   "metadata": {},
   "source": [
    "# Q3 - Part (a)\n",
    "\n",
    "Compute the ${QR}$-decomposition of ${X}$ by using the Gram-Schmidt algorithm that you implemented in Q1."
   ]
  },
  {
   "cell_type": "code",
   "execution_count": 21,
   "metadata": {},
   "outputs": [
    {
     "data": {
      "text/plain": [
       "array([[ 1.00e+00,  0.00e+00,  0.00e+00, ..., -0.00e+00,  0.00e+00,\n",
       "        -0.00e+00],\n",
       "       [ 0.00e+00,  1.00e+00,  0.00e+00, ...,  0.00e+00, -0.00e+00,\n",
       "        -0.00e+00],\n",
       "       [ 0.00e+00,  0.00e+00,  1.00e+00, ...,  0.00e+00,  0.00e+00,\n",
       "         0.00e+00],\n",
       "       ...,\n",
       "       [-0.00e+00,  0.00e+00,  0.00e+00, ...,  1.00e+00,  1.83e-04,\n",
       "         1.83e-04],\n",
       "       [ 0.00e+00, -0.00e+00,  0.00e+00, ...,  1.83e-04,  1.00e+00,\n",
       "         1.83e-04],\n",
       "       [-0.00e+00, -0.00e+00,  0.00e+00, ...,  1.83e-04,  1.83e-04,\n",
       "         1.00e+00]])"
      ]
     },
     "execution_count": 21,
     "metadata": {},
     "output_type": "execute_result"
    }
   ],
   "source": [
    "z_Q, z_R = QR_fact(z)      ##finding the Q and R\n",
    "np.round(z_Q.T @ z_Q, 6)   ##actually showing if the Q is found correctly -> QTQ=I"
   ]
  },
  {
   "cell_type": "markdown",
   "metadata": {},
   "source": [
    "# Q3 - Part (b)\n",
    "\n",
    "Implement the **modified Gram-Schmidt** algorithm (See Algorithm 8.1 from Trefethen & Bau, 1997), and compute the ${QR}$-decomposition of ${X}$ again."
   ]
  },
  {
   "cell_type": "code",
   "execution_count": 22,
   "metadata": {},
   "outputs": [],
   "source": [
    "#Function of modified Gram-Schmidt Algorithm implemented by student with the help from the credited text book \n",
    "#and IALA Python Companion\n",
    "\n",
    "def gramschmidt_mod(a):\n",
    "    v = a\n",
    "    q = []                                              \n",
    "    r = np.zeros((len(a), len(a[0])))\n",
    "    for i in range(len(a)):                             \n",
    "        q_tilde = v[i]\n",
    "        if np.sqrt(sum(q_tilde**2)) <= 1e-10:      ##testing if the vector is linearly independent/adding a new dimension\n",
    "            return q\n",
    "        else:\n",
    "            r[i][i] = sp.linalg.norm(q_tilde)\n",
    "            q.append(q_tilde/r[i][i])             ##normalization of the new vector by dividing to norm\n",
    "\n",
    "            for j in range(i+1, len(a)):\n",
    "                r[i][j] = q[i] @ v[j]   ##finding the already existing dimensions of this vector from the upcoming vectors -> R\n",
    "                v[j] -= r[i][j] * q[i]  ##subtracting the already existing dimensions of this vector from the upcoming vectors\n",
    "    return np.array(q).T, np.array(r).T           ##note that this is actually the transpose/inverse of the actual basis\n"
   ]
  },
  {
   "cell_type": "code",
   "execution_count": 24,
   "metadata": {},
   "outputs": [
    {
     "data": {
      "text/plain": [
       "array([[ 1., -0., -0., ..., -0.,  0., -0.],\n",
       "       [-0.,  1., -0., ..., -0., -0., -0.],\n",
       "       [-0., -0.,  1., ..., -0., -0.,  0.],\n",
       "       ...,\n",
       "       [-0., -0., -0., ...,  1.,  0.,  0.],\n",
       "       [ 0., -0., -0., ...,  0.,  1., -0.],\n",
       "       [-0., -0.,  0., ...,  0., -0.,  1.]])"
      ]
     },
     "execution_count": 24,
     "metadata": {},
     "output_type": "execute_result"
    }
   ],
   "source": [
    "z_Qmod, z_Rmod = np.array(gramschmidt_mod(z))    ##finding the Q and R\n",
    "np.round((z_Qmod).T @ z_Qmod, 6)                 ##actually showing if the Q is found correctly -> QTQ=I"
   ]
  },
  {
   "cell_type": "markdown",
   "metadata": {},
   "source": [
    "# Q3 - Part(c)\n",
    "\n",
    "Calculate an error matrix ${E = I - Q^TQ}$ for each decomposition. Then, compare the performance of the algorithms by reporting the value of the **largest** entry (in absolute value) in these error matrices."
   ]
  },
  {
   "cell_type": "code",
   "execution_count": 25,
   "metadata": {
    "scrolled": true
   },
   "outputs": [
    {
     "name": "stdout",
     "output_type": "stream",
     "text": [
      "Absolute value of the largest error with first decomposition: 0.3913273098311851\n",
      "Absolute value of the largest error with second (modified) decomposition: 7.771561172376096e-16\n"
     ]
    }
   ],
   "source": [
    "z_E = np.identity(200) - (z_Q).T@(z_Q)\n",
    "z_Emod = np.identity(200) - (z_Qmod).T@(z_Qmod)\n",
    "print(\"Absolute value of the largest error with first decomposition: \" +str(abs(np.amax(z_E)))) \n",
    "print(\"Absolute value of the largest error with second (modified) decomposition: \" +str(abs(np.amax(z_Emod))))"
   ]
  },
  {
   "cell_type": "markdown",
   "metadata": {},
   "source": [
    "Since the value is smaller, the **modified version of Gram-Schmidt** has been shown to have better performance with these metric for this spesific matrix consturcted.\n",
    "\n",
    "This is actually an anticipated result. While the actual algorithm subtracts the components of ${i^{th}}$ column vector in the direction of other column vectors from ${k = 1, ..., i-2, i-1}$ **cummulatively**, the modified algorithm does this process for each normalized vector before the ${i^{th}}$ **seperately** when they are first founded. This behaviour probably reduces the small errors coming from round-offs, leading to even better performance as size increases for modified algorithm."
   ]
  },
  {
   "cell_type": "markdown",
   "metadata": {},
   "source": [
    "# Question 4\n",
    "\n",
    "Let ${f(x) = x^2 + 2e^x}$ defined in the range ${x ∈ (-2,2)}$. Plot the original function and\n",
    "${0^{th}}$, ${1^{st}}$, ${2^{nd}}$, and ${3^{rd}}$ order Taylor Approximations in **this range**, at ${x_0 = 0.5}$."
   ]
  },
  {
   "cell_type": "markdown",
   "metadata": {},
   "source": [
    "Taylor Approximation of degree ${n}$ at a point denoted as ${x_0}$ is an approximation of the differentiable function in the close neighbourhood of this point. As the order of differentiation increases, ideally the approximation gets better. The formula is given by,\n",
    "\n",
    "${\\hat{f}(x) = f(x_0) + \\sum \\limits_{i=1} ^{n} \\left(\\frac{\\left(\\frac{d^{(n)}f(x_0)}{dx^{n}}\\right)}{n!} (x - x_0)^{n}\\right)}$\n",
    "\n",
    "By this,\n",
    "\n",
    "${0^{th}}$ Taylor Approximation of ${f(x)}$ at ${x_0 = 0.5}$ is ${\\hat{f}(x) = f(0.5)}$\n",
    "\n",
    "${1^{st}}$ Taylor Approximation of ${f(x)}$ at ${x_0 = 0.5}$ is ${\\hat{f}(x) = f(0.5) + \\frac{df(0.5)}{dx}(x-0.5)}$\n",
    "\n",
    "${2^{nd}}$ Taylor Approximation of ${f(x)}$ at ${x_0 = 0.5}$ is ${\\hat{f}(x) = f(0.5) + \\frac{df(0.5)}{dx}(x-0.5) + \\frac{(\\frac{d^{2}f(0.5)}{dx^{2}})}{2!}(x-0.5)^2}$\n",
    "\n",
    "${3^{rd}}$ Taylor Approximation of ${f(x)}$ at ${x_0 = 0.5}$ is ${\\hat{f}(x) = f(0.5) + \\frac{df(0.5)}{dx}(x-0.5) + \\frac{(\\frac{d^{2}f(0.5)}{dx^{2}})}{2!}(x-0.5)^2 + \\frac{(\\frac{d^{3}f(0.5)}{dx^{3}})}{3!}(x-0.5)^3}$\n",
    "\n",
    "Several functions can be described with respect to these formulas,"
   ]
  },
  {
   "cell_type": "code",
   "execution_count": 3,
   "metadata": {},
   "outputs": [],
   "source": [
    "##defining the function itself\n",
    "def func(x):\n",
    "    return x**2 + 2*np.exp(x)\n",
    "\n",
    "##defining the zeroth Taylor Approximation recursively for nth order around x0 = 0.5\n",
    "def taylor(x, ncurr):\n",
    "    if ncurr==0:\n",
    "        return func(0.5)\n",
    "    else:\n",
    "        return (derivative(func, x0=0.5, n=ncurr, dx = 1.0/2**16, order=5)/math.factorial(ncurr))*((x-0.5)**ncurr) + taylor(x, ncurr-1)\n",
    "\n",
    "\n",
    "    \n",
    "taylor = np.vectorize(taylor)   ##vectorizing the function so that it would not return scalar for ncurr=0\n"
   ]
  },
  {
   "cell_type": "code",
   "execution_count": 4,
   "metadata": {
    "scrolled": false
   },
   "outputs": [
    {
     "data": {
      "text/plain": [
       "Text(0.8, -5, '*Function is better approached as order increases')"
      ]
     },
     "execution_count": 4,
     "metadata": {},
     "output_type": "execute_result"
    },
    {
     "data": {
      "image/png": "[encoded data removed]",
      "text/plain": [
       "<Figure size 1152x576 with 1 Axes>"
      ]
     },
     "metadata": {
      "needs_background": "light"
     },
     "output_type": "display_data"
    }
   ],
   "source": [
    "##Visualizations\n",
    "x = np.linspace(-2, 2, 100)\n",
    "fig, ax = plt.subplots(figsize=(16,8))\n",
    "fig.suptitle('The Function and Taylor Approximations of order 0, 1, 2 and 3 around x = 0.5', size=20)\n",
    "plt.plot(x, func(x), label='Function')\n",
    "plt.plot(x, taylor(x,0), 'tab:green', label='0th Order Approx')\n",
    "plt.plot(x, taylor(x,1), 'tab:purple', label='1st Order Approx')\n",
    "plt.plot(x, taylor(x,2), 'tab:cyan', label='2nd Order Approx')\n",
    "plt.plot(x, taylor(x,3), 'tab:red', label='3rd Order Approx')\n",
    "ax.set(ylabel='y', xlabel='x')\n",
    "ax.legend(loc='upper left')\n",
    "ax.annotate(\"*Function is better approached as order increases\", xy=(0,0), xytext=(0.8, -5))"
   ]
  },
  {
   "cell_type": "markdown",
   "metadata": {},
   "source": [
    "# Question 5\n",
    "\n",
    "(Golub and van Loan, P.1.1.5) Suppose we have real ${n}$ by ${n}$ matrices ${C}$, ${D}$, ${E}$ and ${F}$. Show how to compute the real ${n}$ by ${n}$ matrices _A_ and _B_ with just **three** real ${n}$ by ${n}$ matrix multiplications so that,\n",
    "                        \n",
    "${(A + iB) = (C + iD) (E + iF)}$"
   ]
  },
  {
   "cell_type": "markdown",
   "metadata": {},
   "source": [
    "By the distributive property of matrix multiplication,\n",
    "\n",
    "${(C + iD) (E + iF) = (C + iD) (E) + (C + iD) (iF)}$\n",
    "\n",
    "Again by the same property,\n",
    "\n",
    "${(C + iD) (E + iF) = (C) (E) + (iD) (E) + (C) (iF) + (iD) (iF)}$\n",
    "\n",
    "By using the distributive and associative properties of scalar multiplication over matrices and assuming ${i}$ to be a scalar where ${i^2 = -1}$,\n",
    "\n",
    "${(A + iB) = (C + iD) (E + iF) = CE + i (DE + CF) - DF}$ is actually a matrix that can be expressed with 2 seperate matrices for the real and imaginary parts, \n",
    "\n",
    "Thus the fact that,\n",
    "\n",
    "${A = CE - DF}$ and ${B = DE + CF}$ is proved.\n",
    "\n",
    "However, this calculation requires **four** ${n}$ by ${n}$ real matrix multiplications while the solution space is limited with solutions including **there** ${n}$ by ${n}$ real matrix multiplications.\n",
    "\n",
    "By the **HINT** provided in [Golub and van Loan edt. 3, P.1.1.6](https://twiki.cern.ch/twiki/pub/Main/AVFedotovHowToRootTDecompQRH/Golub_VanLoan.Matr_comp_3ed.pdf), \n",
    "\n",
    "${W = (C + D) * (E + F)}$ is a real ${n}$ by ${n}$ matrix that can be found by two ${n}$ by ${n}$ real matrix summations and one ${n}$ by ${n}$ real matrix multiplication. Where,\n",
    "\n",
    "${W = CE + DE + CF + DF}$\n",
    "\n",
    "Also,\n",
    "\n",
    "${W = CE + B + DF}$\n",
    "\n",
    "Hence if ${CE}$ and ${DF}$ is found by **two** ${n}$ by ${n}$ real matrix multiplication, note that the total number of **three** ${n}$ by ${n}$ real matrix multiplications have been reached.\n",
    "\n",
    "${B = W - CE - DF}$ and ${A = CE - DF}$\n"
   ]
  },
  {
   "cell_type": "markdown",
   "metadata": {},
   "source": [
    "# Question 6\n",
    "\n",
    "(Boyd & Vandenberghe, 2018, Q2.4) The function ${\\phi : \\mathbb{R}^3 \\to \\mathbb{R}}$ satisfies,\n",
    "\n",
    "${\\phi(1, 1, 0) = -1}$,    ${\\phi(-1, 1, 1) = 1}$,    ${\\phi(1, -1, -1) = 1}$.\n",
    "\n",
    "Choose one of the following and justify your choice: **must** be linear, **could** be linear, **cannot** be linear."
   ]
  },
  {
   "cell_type": "markdown",
   "metadata": {},
   "source": [
    "By definition, linear functions obey the rule of superposition and hence, can be expressed as an inner product with a function specific vector. For this particular problem, if ${\\phi}$ is assumed to be linear, there should be a vector ${A = \\begin{bmatrix} a_1 \\ a_2 \\ a_3 \\end{bmatrix}}$ such that,\n",
    "\n",
    "${\\phi(1, 1, 0) = \\begin{bmatrix} a_1 \\ a_2 \\ a_3 \\end{bmatrix} \\begin{bmatrix} 1 \\\\ 1 \\\\ 0 \\end{bmatrix} = -1}$\n",
    "\n",
    "${\\phi(-1, 1, 1) = \\begin{bmatrix} a_1 \\ a_2 \\ a_3 \\end{bmatrix} \\begin{bmatrix} -1 \\\\ 1 \\\\ 1 \\end{bmatrix} = 1}$\n",
    "\n",
    "${\\phi(1, -1, -1) = \\begin{bmatrix} a_1 \\ a_2 \\ a_3 \\end{bmatrix} \\begin{bmatrix} 1 \\\\ -1 \\\\ -1 \\end{bmatrix} = 1}$\n",
    "\n",
    "If put as a linear system,\n",
    "\n",
    "${\\begin{bmatrix} 1 & -1 & 0 \\\\ -1 & 1 & 1 \\\\ 1 & -1 & -1\\end{bmatrix} \\begin{bmatrix} a_1 \\\\ a_2 \\\\ a_3 \\end{bmatrix} = \\begin{bmatrix} -1 \\\\ 1 \\\\ 1 \\end{bmatrix}}$\n",
    "\n",
    "Though this system can be analyzed via proper linear algebraic methods, the scope of the material covered on the course does not include these methods yet. Hence, resorting to the more basic ways three equations can be written for three unknowns,\n",
    "\n",
    "${1^{st}}$: ${a_1 + a_2 = -1}$   ,    ${2^{nd}}$: ${-a_1 + a_2 + a_3 = 1}$    ,   ${3^{rd}}$: ${a_1 - a_2 - a_3 = 1}$\n",
    "\n",
    "The ${2^{nd}}$ and ${3^{rd}}$ equations considered together, does not have any solution for ${a_1, a_2, a_3}$. Hence, it is a contradiction. It can be concluded that the function ${\\phi}$ **cannot** be linear."
   ]
  },
  {
   "cell_type": "markdown",
   "metadata": {},
   "source": [
    "## References\n",
    "\n",
    "[Gram-Schmidt vs. Modified Gram-Schmidt](https://laurenthoeltgen.name/post/gram-schmidt/)\n",
    "\n",
    "[MatPlotLib Documentation](https://matplotlib.org/stable/index.html)"
   ]
  },
  {
   "cell_type": "code",
   "execution_count": null,
   "metadata": {},
   "outputs": [],
   "source": []
  }
 ],
 "metadata": {
  "kernelspec": {
   "display_name": "Python 3",
   "language": "python",
   "name": "python3"
  },
  "language_info": {
   "codemirror_mode": {
    "name": "ipython",
    "version": 3
   },
   "file_extension": ".py",
   "mimetype": "text/x-python",
   "name": "python",
   "nbconvert_exporter": "python",
   "pygments_lexer": "ipython3",
   "version": "3.8.5"
  }
 },
 "nbformat": 4,
 "nbformat_minor": 4
}
